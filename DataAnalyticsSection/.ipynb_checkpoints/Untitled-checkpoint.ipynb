{
 "cells": [
  {
   "cell_type": "code",
   "execution_count": 32,
   "metadata": {},
   "outputs": [
    {
     "output_type": "stream",
     "name": "stdout",
     "text": [
      "56\n\n1961.20.3\nTime taken by Lists : 0.08746528625488281 seconds\n"
     ]
    }
   ],
   "source": [
    "import numpy as np\n",
    "import sys\n",
    "import time\n",
    "\n",
    "py_array = [1, 2, 3, 4, 5, 6, 7]\n",
    "py_array_size = sys.getsizeof(1) * len(py_array)\n",
    "numpy_array = np.array([1, 2, 3, 4, 5, 6, 7])\n",
    "numpy_array_size = numpy_array.itemsize * numpy_array.size\n",
    "sys.stdout.write(str(numpy_array_size))\n",
    "print('\\n')\n",
    "sys.stdout.write(str(py_array_size))\n",
    "\n",
    "print(np.__version__)\n",
    "\n",
    "# Showing speed\n",
    "# size of arrays and lists\n",
    "size = 1000000  \n",
    " \n",
    "# declaring lists\n",
    "list1 = range(size)\n",
    "list2 = range(size)\n",
    " \n",
    "# declaring arrays\n",
    "array1 = np.arange(size)  \n",
    "array2 = np.arange(size)\n",
    " \n",
    "# list\n",
    "initialTime = time.time()\n",
    "resultantList = [(a * b) for a, b in zip(list1, list2)]\n",
    " \n",
    "# calculating execution time\n",
    "print(\"Time taken by Lists :\", \n",
    "      (time.time() - initialTime),\n",
    "      \"seconds\")"
   ]
  },
  {
   "cell_type": "code",
   "execution_count": 33,
   "metadata": {},
   "outputs": [
    {
     "output_type": "stream",
     "name": "stdout",
     "text": [
      "928.35\n928.35\n44.0\n18567\n"
     ]
    }
   ],
   "source": [
    "\n",
    "nums = np.array([[1,2,3,4,5],[6,7,7,34,54],[3456,345,6345,6,3456],[3456,345,634,56,345]])\n",
    "print(nums.mean())\n",
    "print(np.average(nums))\n",
    "print(np.median(nums))\n",
    "print(np.sum(nums))"
   ]
  },
  {
   "cell_type": "code",
   "execution_count": 34,
   "metadata": {},
   "outputs": [
    {
     "output_type": "execute_result",
     "data": {
      "text/plain": [
       "array([[   1,    6, 3456, 3456],\n",
       "       [   2,    7,  345,  345],\n",
       "       [   3,    7, 6345,  634],\n",
       "       [   4,   34,    6,   56],\n",
       "       [   5,   54, 3456,  345]])"
      ]
     },
     "metadata": {},
     "execution_count": 34
    }
   ],
   "source": [
    "\n",
    "np.transpose(nums)"
   ]
  },
  {
   "cell_type": "code",
   "execution_count": 35,
   "metadata": {},
   "outputs": [
    {
     "output_type": "stream",
     "name": "stdout",
     "text": [
      "6345\n1\n"
     ]
    }
   ],
   "source": [
    "print(nums.max())\n",
    "print(nums.min())"
   ]
  },
  {
   "cell_type": "code",
   "execution_count": 36,
   "metadata": {},
   "outputs": [
    {
     "output_type": "stream",
     "name": "stdout",
     "text": [
      "[[   10    20    30    40    50]\n [   60    70    70   340   540]\n [34560  3450 63450    60 34560]\n [34560  3450  6340   560  3450]]\n"
     ]
    }
   ],
   "source": [
    "multiplied = nums * 10\n",
    "print(multiplied)"
   ]
  },
  {
   "cell_type": "code",
   "execution_count": 40,
   "metadata": {},
   "outputs": [
    {
     "output_type": "stream",
     "name": "stdout",
     "text": [
      "[[       1        4        9       16       25]\n [      36       49       49     1156     2916]\n [11943936   119025 40259025       36 11943936]\n [11943936   119025   401956     3136   119025]]\n"
     ]
    }
   ],
   "source": [
    "stuff = nums * nums\n",
    "print(stuff)"
   ]
  },
  {
   "cell_type": "code",
   "execution_count": null,
   "metadata": {},
   "outputs": [],
   "source": []
  }
 ],
 "metadata": {
  "kernelspec": {
   "name": "python394jvsc74a57bd0aee8b7b246df8f9039afb4144a1f6fd8d2ca17a180786b69acc140d282b71a49",
   "display_name": "Python 3.9.4 64-bit"
  },
  "metadata": {
   "interpreter": {
    "hash": "aee8b7b246df8f9039afb4144a1f6fd8d2ca17a180786b69acc140d282b71a49"
   }
  }
 },
 "nbformat": 4,
 "nbformat_minor": 5
}