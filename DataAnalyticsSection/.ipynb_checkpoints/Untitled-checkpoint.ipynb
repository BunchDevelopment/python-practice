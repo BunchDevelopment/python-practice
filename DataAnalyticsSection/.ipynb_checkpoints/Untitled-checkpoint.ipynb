{
 "cells": [
  {
   "cell_type": "code",
   "execution_count": 2,
   "metadata": {},
   "outputs": [
    {
     "output_type": "stream",
     "name": "stdout",
     "text": [
      "56\n\n196"
     ]
    }
   ],
   "source": [
    "import numpy as np\n",
    "import sys\n",
    "py_array = [1, 2, 3, 4, 5, 6, 7]\n",
    "py_array_size = sys.getsizeof(1) * len(py_array)\n",
    "numpy_array = np.array([1, 2, 3, 4, 5, 6, 7])\n",
    "numpy_array_size = numpy_array.itemsize * numpy_array.size\n",
    "sys.stdout.write(str(numpy_array_size))\n",
    "print('\\n')\n",
    "sys.stdout.write(str(py_array_size))"
   ]
  },
  {
   "cell_type": "code",
   "execution_count": 3,
   "metadata": {},
   "outputs": [
    {
     "output_type": "stream",
     "name": "stdout",
     "text": [
      "Time taken by Lists : 0.09309577941894531 seconds\nTime taken by NumPy Arrays : 0.00587010383605957 seconds\n"
     ]
    }
   ],
   "source": [
    "# importing required packages\n",
    "import numpy\n",
    "import time\n",
    " \n",
    "# size of arrays and lists\n",
    "size = 1000000  \n",
    " \n",
    "# declaring lists\n",
    "list1 = range(size)\n",
    "list2 = range(size)\n",
    " \n",
    "# declaring arrays\n",
    "array1 = numpy.arange(size)  \n",
    "array2 = numpy.arange(size)\n",
    " \n",
    "# list\n",
    "initialTime = time.time()\n",
    "resultantList = [(a * b) for a, b in zip(list1, list2)]\n",
    " \n",
    "# calculating execution time\n",
    "print(\"Time taken by Lists :\", \n",
    "      (time.time() - initialTime),\n",
    "      \"seconds\")\n",
    " \n",
    "# NumPy array\n",
    "initialTime = time.time()\n",
    "resultantArray = array1 * array2\n",
    " \n",
    "# calculating execution time \n",
    "print(\"Time taken by NumPy Arrays :\",\n",
    "      (time.time() - initialTime),\n",
    "      \"seconds\")"
   ]
  },
  {
   "cell_type": "code",
   "execution_count": null,
   "metadata": {},
   "outputs": [],
   "source": []
  }
 ],
 "metadata": {
  "kernelspec": {
   "name": "python394jvsc74a57bd0aee8b7b246df8f9039afb4144a1f6fd8d2ca17a180786b69acc140d282b71a49",
   "display_name": "Python 3.9.4 64-bit"
  },
  "metadata": {
   "interpreter": {
    "hash": "aee8b7b246df8f9039afb4144a1f6fd8d2ca17a180786b69acc140d282b71a49"
   }
  }
 },
 "nbformat": 4,
 "nbformat_minor": 5
}